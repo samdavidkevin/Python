{
  "nbformat": 4,
  "nbformat_minor": 0,
  "metadata": {
    "colab": {
      "provenance": [],
      "authorship_tag": "ABX9TyNRMQkO8oDIyNIsho8QKh68"
    },
    "kernelspec": {
      "name": "python3",
      "display_name": "Python 3"
    },
    "language_info": {
      "name": "python"
    }
  },
  "cells": [
    {
      "cell_type": "code",
      "execution_count": 8,
      "metadata": {
        "colab": {
          "base_uri": "https://localhost:8080/"
        },
        "id": "OAqh-lLRbs7X",
        "outputId": "2ab41dba-6501-4ed3-ac38-af9eb8d2cde2"
      },
      "outputs": [
        {
          "output_type": "stream",
          "name": "stdout",
          "text": [
            "Enter Password: kldflkj\n",
            "wrong password\n",
            "Enter Password: ksdfjklsfd\n",
            "wrong password\n",
            "Enter Password: data\n",
            "Welcome to Python Course\n"
          ]
        }
      ],
      "source": [
        "password = \"data\"\n",
        "for trial in range(1,5):\n",
        "  if trial == 4:\n",
        "    print(\"One trial left\")\n",
        "\n",
        "  enter_password = input(\"Enter Password: \")\n",
        "\n",
        "  if enter_password == password:\n",
        "      print(\"Welcome to Python Course\")\n",
        "      break\n",
        "\n",
        "  else:\n",
        "      print(\"wrong password\")"
      ]
    },
    {
      "cell_type": "code",
      "source": [],
      "metadata": {
        "id": "qyS3EEGkcKz0"
      },
      "execution_count": null,
      "outputs": []
    }
  ]
}